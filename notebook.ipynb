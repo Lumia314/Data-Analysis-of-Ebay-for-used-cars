{
 "cells": [
  {
   "cell_type": "markdown",
   "metadata": {
    "collapsed": true
   },
   "source": [
    "##Data description:\n",
    "Dataset of Germany Ebay for used cars including 50,000 data points\n",
    "\n",
    "##Data fields:\n",
    "- dateCrawled - When this ad was first crawled.\n",
    "- name - Name of the car.\n",
    "- seller - Whether the seller is private or a dealer.\n",
    "- offerType - The type of listing\n",
    "- price - The price on the ad to sell the car.\n",
    "- abtest - Whether the listing is included in an A/B test.\n",
    "- vehicleType - The vehicle Type.\n",
    "- yearOfRegistration - The year in which the car was first registered.\n",
    "- gearbox - The transmission type.\n",
    "- powerPS - The power of the car in PS.\n",
    "- model - The car model name.\n",
    "- kilometer - How many kilometers the car has driven.\n",
    "- monthOfRegistration - The month in which the car was first registered.\n",
    "- fuelType - What type of fuel the car uses.\n",
    "- brand - The brand of the car.\n",
    "- notRepairedDamage - If the car has a damage which is not yet repaired.\n",
    "- dateCreated - The date on which the eBay listing was created.\n",
    "- nrOfPictures - The number of pictures in the ad.\n",
    "- postalCode - The postal code for the location of the vehicle.\n",
    "- lastSeenOnline - When the crawler saw this ad last online.\n",
    "\n",
    "##Introduction\n",
    "The purpose of this project is to clean the data and analyze used car listings\n"
   ]
  },
  {
   "cell_type": "code",
   "execution_count": 149,
   "metadata": {
    "collapsed": false
   },
   "outputs": [],
   "source": [
    "# Import neccessary libraries and load dataframe\n",
    "import pandas as pd\n",
    "import numpy as np\n",
    "import matplotlib.pyplot as plt \n",
    "%matplotlib inline\n",
    "autos = pd.read_csv('autos.csv', encoding='Latin-1')"
   ]
  },
  {
   "cell_type": "markdown",
   "metadata": {},
   "source": []
  },
  {
   "cell_type": "code",
   "execution_count": 150,
   "metadata": {
    "collapsed": false
   },
   "outputs": [
    {
     "name": "stdout",
     "output_type": "stream",
     "text": [
      "<class 'pandas.core.frame.DataFrame'>\n",
      "RangeIndex: 50000 entries, 0 to 49999\n",
      "Data columns (total 20 columns):\n",
      "dateCrawled            50000 non-null object\n",
      "name                   50000 non-null object\n",
      "seller                 50000 non-null object\n",
      "offerType              50000 non-null object\n",
      "price                  50000 non-null object\n",
      "abtest                 50000 non-null object\n",
      "vehicleType            44905 non-null object\n",
      "yearOfRegistration     50000 non-null int64\n",
      "gearbox                47320 non-null object\n",
      "powerPS                50000 non-null int64\n",
      "model                  47242 non-null object\n",
      "odometer               50000 non-null object\n",
      "monthOfRegistration    50000 non-null int64\n",
      "fuelType               45518 non-null object\n",
      "brand                  50000 non-null object\n",
      "notRepairedDamage      40171 non-null object\n",
      "dateCreated            50000 non-null object\n",
      "nrOfPictures           50000 non-null int64\n",
      "postalCode             50000 non-null int64\n",
      "lastSeen               50000 non-null object\n",
      "dtypes: int64(5), object(15)\n",
      "memory usage: 7.6+ MB\n",
      "None\n"
     ]
    }
   ],
   "source": [
    "# Overview\n",
    "print(autos.info())"
   ]
  },
  {
   "cell_type": "markdown",
   "metadata": {},
   "source": [
    "##Overview:\n",
    "- There are 20 columns in datatset.\n",
    "- Most of them are strings.\n",
    "- We have uncompleted data for columns: 'vehicleType','gearbox','model','fuelType','notRepairedDamage'\n",
    "- Column names use camelcase instead of preferred snakecase.\n",
    "- Less than 20% of data is missing from each uncompleted columns. That is at an acceptable percentage."
   ]
  },
  {
   "cell_type": "code",
   "execution_count": 151,
   "metadata": {
    "collapsed": true
   },
   "outputs": [],
   "source": [
    "umcompleted = ['vehicleType','gearbox','model','fuelType','notRepairedDamage']"
   ]
  },
  {
   "cell_type": "code",
   "execution_count": 152,
   "metadata": {
    "collapsed": false
   },
   "outputs": [],
   "source": [
    "# Change column names for easy interpretation\n",
    "autos.columns = ['date_crawled', 'name', 'seller', 'offer_type', 'price', 'abtest',\n",
    "       'vehicle_type', 'registration_year', 'gearbox', 'powerPS', 'model',\n",
    "       'odometer', 'registration_month', 'fuel_type', 'brand',\n",
    "       'unrepaired_damage', 'ad_created', 'nr_of_pictures', 'postal_code',\n",
    "       'last_seen']"
   ]
  },
  {
   "cell_type": "markdown",
   "metadata": {},
   "source": [
    "##Finding redundant columns and data incorrectly stored\n",
    "We will start by looking at df.describe() to find columns not providing much information or those has been stored in incorrect formats"
   ]
  },
  {
   "cell_type": "code",
   "execution_count": 153,
   "metadata": {
    "collapsed": false
   },
   "outputs": [
    {
     "data": {
      "text/html": [
       "<div>\n",
       "<style scoped>\n",
       "    .dataframe tbody tr th:only-of-type {\n",
       "        vertical-align: middle;\n",
       "    }\n",
       "\n",
       "    .dataframe tbody tr th {\n",
       "        vertical-align: top;\n",
       "    }\n",
       "\n",
       "    .dataframe thead th {\n",
       "        text-align: right;\n",
       "    }\n",
       "</style>\n",
       "<table border=\"1\" class=\"dataframe\">\n",
       "  <thead>\n",
       "    <tr style=\"text-align: right;\">\n",
       "      <th></th>\n",
       "      <th>date_crawled</th>\n",
       "      <th>name</th>\n",
       "      <th>seller</th>\n",
       "      <th>offer_type</th>\n",
       "      <th>price</th>\n",
       "      <th>abtest</th>\n",
       "      <th>vehicle_type</th>\n",
       "      <th>registration_year</th>\n",
       "      <th>gearbox</th>\n",
       "      <th>powerPS</th>\n",
       "      <th>model</th>\n",
       "      <th>odometer</th>\n",
       "      <th>registration_month</th>\n",
       "      <th>fuel_type</th>\n",
       "      <th>brand</th>\n",
       "      <th>unrepaired_damage</th>\n",
       "      <th>ad_created</th>\n",
       "      <th>nr_of_pictures</th>\n",
       "      <th>postal_code</th>\n",
       "      <th>last_seen</th>\n",
       "    </tr>\n",
       "  </thead>\n",
       "  <tbody>\n",
       "    <tr>\n",
       "      <th>count</th>\n",
       "      <td>50000</td>\n",
       "      <td>50000</td>\n",
       "      <td>50000</td>\n",
       "      <td>50000</td>\n",
       "      <td>50000</td>\n",
       "      <td>50000</td>\n",
       "      <td>44905</td>\n",
       "      <td>50000.000000</td>\n",
       "      <td>47320</td>\n",
       "      <td>50000.000000</td>\n",
       "      <td>47242</td>\n",
       "      <td>50000</td>\n",
       "      <td>50000.000000</td>\n",
       "      <td>45518</td>\n",
       "      <td>50000</td>\n",
       "      <td>40171</td>\n",
       "      <td>50000</td>\n",
       "      <td>50000.0</td>\n",
       "      <td>50000.000000</td>\n",
       "      <td>50000</td>\n",
       "    </tr>\n",
       "    <tr>\n",
       "      <th>unique</th>\n",
       "      <td>48213</td>\n",
       "      <td>38754</td>\n",
       "      <td>2</td>\n",
       "      <td>2</td>\n",
       "      <td>2357</td>\n",
       "      <td>2</td>\n",
       "      <td>8</td>\n",
       "      <td>NaN</td>\n",
       "      <td>2</td>\n",
       "      <td>NaN</td>\n",
       "      <td>245</td>\n",
       "      <td>13</td>\n",
       "      <td>NaN</td>\n",
       "      <td>7</td>\n",
       "      <td>40</td>\n",
       "      <td>2</td>\n",
       "      <td>76</td>\n",
       "      <td>NaN</td>\n",
       "      <td>NaN</td>\n",
       "      <td>39481</td>\n",
       "    </tr>\n",
       "    <tr>\n",
       "      <th>top</th>\n",
       "      <td>2016-03-10 15:36:24</td>\n",
       "      <td>Ford_Fiesta</td>\n",
       "      <td>privat</td>\n",
       "      <td>Angebot</td>\n",
       "      <td>$0</td>\n",
       "      <td>test</td>\n",
       "      <td>limousine</td>\n",
       "      <td>NaN</td>\n",
       "      <td>manuell</td>\n",
       "      <td>NaN</td>\n",
       "      <td>golf</td>\n",
       "      <td>150,000km</td>\n",
       "      <td>NaN</td>\n",
       "      <td>benzin</td>\n",
       "      <td>volkswagen</td>\n",
       "      <td>nein</td>\n",
       "      <td>2016-04-03 00:00:00</td>\n",
       "      <td>NaN</td>\n",
       "      <td>NaN</td>\n",
       "      <td>2016-04-07 06:17:27</td>\n",
       "    </tr>\n",
       "    <tr>\n",
       "      <th>freq</th>\n",
       "      <td>3</td>\n",
       "      <td>78</td>\n",
       "      <td>49999</td>\n",
       "      <td>49999</td>\n",
       "      <td>1421</td>\n",
       "      <td>25756</td>\n",
       "      <td>12859</td>\n",
       "      <td>NaN</td>\n",
       "      <td>36993</td>\n",
       "      <td>NaN</td>\n",
       "      <td>4024</td>\n",
       "      <td>32424</td>\n",
       "      <td>NaN</td>\n",
       "      <td>30107</td>\n",
       "      <td>10687</td>\n",
       "      <td>35232</td>\n",
       "      <td>1946</td>\n",
       "      <td>NaN</td>\n",
       "      <td>NaN</td>\n",
       "      <td>8</td>\n",
       "    </tr>\n",
       "    <tr>\n",
       "      <th>mean</th>\n",
       "      <td>NaN</td>\n",
       "      <td>NaN</td>\n",
       "      <td>NaN</td>\n",
       "      <td>NaN</td>\n",
       "      <td>NaN</td>\n",
       "      <td>NaN</td>\n",
       "      <td>NaN</td>\n",
       "      <td>2005.073280</td>\n",
       "      <td>NaN</td>\n",
       "      <td>116.355920</td>\n",
       "      <td>NaN</td>\n",
       "      <td>NaN</td>\n",
       "      <td>5.723360</td>\n",
       "      <td>NaN</td>\n",
       "      <td>NaN</td>\n",
       "      <td>NaN</td>\n",
       "      <td>NaN</td>\n",
       "      <td>0.0</td>\n",
       "      <td>50813.627300</td>\n",
       "      <td>NaN</td>\n",
       "    </tr>\n",
       "    <tr>\n",
       "      <th>std</th>\n",
       "      <td>NaN</td>\n",
       "      <td>NaN</td>\n",
       "      <td>NaN</td>\n",
       "      <td>NaN</td>\n",
       "      <td>NaN</td>\n",
       "      <td>NaN</td>\n",
       "      <td>NaN</td>\n",
       "      <td>105.712813</td>\n",
       "      <td>NaN</td>\n",
       "      <td>209.216627</td>\n",
       "      <td>NaN</td>\n",
       "      <td>NaN</td>\n",
       "      <td>3.711984</td>\n",
       "      <td>NaN</td>\n",
       "      <td>NaN</td>\n",
       "      <td>NaN</td>\n",
       "      <td>NaN</td>\n",
       "      <td>0.0</td>\n",
       "      <td>25779.747957</td>\n",
       "      <td>NaN</td>\n",
       "    </tr>\n",
       "    <tr>\n",
       "      <th>min</th>\n",
       "      <td>NaN</td>\n",
       "      <td>NaN</td>\n",
       "      <td>NaN</td>\n",
       "      <td>NaN</td>\n",
       "      <td>NaN</td>\n",
       "      <td>NaN</td>\n",
       "      <td>NaN</td>\n",
       "      <td>1000.000000</td>\n",
       "      <td>NaN</td>\n",
       "      <td>0.000000</td>\n",
       "      <td>NaN</td>\n",
       "      <td>NaN</td>\n",
       "      <td>0.000000</td>\n",
       "      <td>NaN</td>\n",
       "      <td>NaN</td>\n",
       "      <td>NaN</td>\n",
       "      <td>NaN</td>\n",
       "      <td>0.0</td>\n",
       "      <td>1067.000000</td>\n",
       "      <td>NaN</td>\n",
       "    </tr>\n",
       "    <tr>\n",
       "      <th>25%</th>\n",
       "      <td>NaN</td>\n",
       "      <td>NaN</td>\n",
       "      <td>NaN</td>\n",
       "      <td>NaN</td>\n",
       "      <td>NaN</td>\n",
       "      <td>NaN</td>\n",
       "      <td>NaN</td>\n",
       "      <td>1999.000000</td>\n",
       "      <td>NaN</td>\n",
       "      <td>70.000000</td>\n",
       "      <td>NaN</td>\n",
       "      <td>NaN</td>\n",
       "      <td>3.000000</td>\n",
       "      <td>NaN</td>\n",
       "      <td>NaN</td>\n",
       "      <td>NaN</td>\n",
       "      <td>NaN</td>\n",
       "      <td>0.0</td>\n",
       "      <td>30451.000000</td>\n",
       "      <td>NaN</td>\n",
       "    </tr>\n",
       "    <tr>\n",
       "      <th>50%</th>\n",
       "      <td>NaN</td>\n",
       "      <td>NaN</td>\n",
       "      <td>NaN</td>\n",
       "      <td>NaN</td>\n",
       "      <td>NaN</td>\n",
       "      <td>NaN</td>\n",
       "      <td>NaN</td>\n",
       "      <td>2003.000000</td>\n",
       "      <td>NaN</td>\n",
       "      <td>105.000000</td>\n",
       "      <td>NaN</td>\n",
       "      <td>NaN</td>\n",
       "      <td>6.000000</td>\n",
       "      <td>NaN</td>\n",
       "      <td>NaN</td>\n",
       "      <td>NaN</td>\n",
       "      <td>NaN</td>\n",
       "      <td>0.0</td>\n",
       "      <td>49577.000000</td>\n",
       "      <td>NaN</td>\n",
       "    </tr>\n",
       "    <tr>\n",
       "      <th>75%</th>\n",
       "      <td>NaN</td>\n",
       "      <td>NaN</td>\n",
       "      <td>NaN</td>\n",
       "      <td>NaN</td>\n",
       "      <td>NaN</td>\n",
       "      <td>NaN</td>\n",
       "      <td>NaN</td>\n",
       "      <td>2008.000000</td>\n",
       "      <td>NaN</td>\n",
       "      <td>150.000000</td>\n",
       "      <td>NaN</td>\n",
       "      <td>NaN</td>\n",
       "      <td>9.000000</td>\n",
       "      <td>NaN</td>\n",
       "      <td>NaN</td>\n",
       "      <td>NaN</td>\n",
       "      <td>NaN</td>\n",
       "      <td>0.0</td>\n",
       "      <td>71540.000000</td>\n",
       "      <td>NaN</td>\n",
       "    </tr>\n",
       "    <tr>\n",
       "      <th>max</th>\n",
       "      <td>NaN</td>\n",
       "      <td>NaN</td>\n",
       "      <td>NaN</td>\n",
       "      <td>NaN</td>\n",
       "      <td>NaN</td>\n",
       "      <td>NaN</td>\n",
       "      <td>NaN</td>\n",
       "      <td>9999.000000</td>\n",
       "      <td>NaN</td>\n",
       "      <td>17700.000000</td>\n",
       "      <td>NaN</td>\n",
       "      <td>NaN</td>\n",
       "      <td>12.000000</td>\n",
       "      <td>NaN</td>\n",
       "      <td>NaN</td>\n",
       "      <td>NaN</td>\n",
       "      <td>NaN</td>\n",
       "      <td>0.0</td>\n",
       "      <td>99998.000000</td>\n",
       "      <td>NaN</td>\n",
       "    </tr>\n",
       "  </tbody>\n",
       "</table>\n",
       "</div>"
      ],
      "text/plain": [
       "               date_crawled         name  seller offer_type  price abtest  \\\n",
       "count                 50000        50000   50000      50000  50000  50000   \n",
       "unique                48213        38754       2          2   2357      2   \n",
       "top     2016-03-10 15:36:24  Ford_Fiesta  privat    Angebot     $0   test   \n",
       "freq                      3           78   49999      49999   1421  25756   \n",
       "mean                    NaN          NaN     NaN        NaN    NaN    NaN   \n",
       "std                     NaN          NaN     NaN        NaN    NaN    NaN   \n",
       "min                     NaN          NaN     NaN        NaN    NaN    NaN   \n",
       "25%                     NaN          NaN     NaN        NaN    NaN    NaN   \n",
       "50%                     NaN          NaN     NaN        NaN    NaN    NaN   \n",
       "75%                     NaN          NaN     NaN        NaN    NaN    NaN   \n",
       "max                     NaN          NaN     NaN        NaN    NaN    NaN   \n",
       "\n",
       "       vehicle_type  registration_year  gearbox       powerPS  model  \\\n",
       "count         44905       50000.000000    47320  50000.000000  47242   \n",
       "unique            8                NaN        2           NaN    245   \n",
       "top       limousine                NaN  manuell           NaN   golf   \n",
       "freq          12859                NaN    36993           NaN   4024   \n",
       "mean            NaN        2005.073280      NaN    116.355920    NaN   \n",
       "std             NaN         105.712813      NaN    209.216627    NaN   \n",
       "min             NaN        1000.000000      NaN      0.000000    NaN   \n",
       "25%             NaN        1999.000000      NaN     70.000000    NaN   \n",
       "50%             NaN        2003.000000      NaN    105.000000    NaN   \n",
       "75%             NaN        2008.000000      NaN    150.000000    NaN   \n",
       "max             NaN        9999.000000      NaN  17700.000000    NaN   \n",
       "\n",
       "         odometer  registration_month fuel_type       brand unrepaired_damage  \\\n",
       "count       50000        50000.000000     45518       50000             40171   \n",
       "unique         13                 NaN         7          40                 2   \n",
       "top     150,000km                 NaN    benzin  volkswagen              nein   \n",
       "freq        32424                 NaN     30107       10687             35232   \n",
       "mean          NaN            5.723360       NaN         NaN               NaN   \n",
       "std           NaN            3.711984       NaN         NaN               NaN   \n",
       "min           NaN            0.000000       NaN         NaN               NaN   \n",
       "25%           NaN            3.000000       NaN         NaN               NaN   \n",
       "50%           NaN            6.000000       NaN         NaN               NaN   \n",
       "75%           NaN            9.000000       NaN         NaN               NaN   \n",
       "max           NaN           12.000000       NaN         NaN               NaN   \n",
       "\n",
       "                 ad_created  nr_of_pictures   postal_code            last_seen  \n",
       "count                 50000         50000.0  50000.000000                50000  \n",
       "unique                   76             NaN           NaN                39481  \n",
       "top     2016-04-03 00:00:00             NaN           NaN  2016-04-07 06:17:27  \n",
       "freq                   1946             NaN           NaN                    8  \n",
       "mean                    NaN             0.0  50813.627300                  NaN  \n",
       "std                     NaN             0.0  25779.747957                  NaN  \n",
       "min                     NaN             0.0   1067.000000                  NaN  \n",
       "25%                     NaN             0.0  30451.000000                  NaN  \n",
       "50%                     NaN             0.0  49577.000000                  NaN  \n",
       "75%                     NaN             0.0  71540.000000                  NaN  \n",
       "max                     NaN             0.0  99998.000000                  NaN  "
      ]
     },
     "execution_count": 153,
     "metadata": {},
     "output_type": "execute_result"
    }
   ],
   "source": [
    "# Further look into data\n",
    "autos.describe(include='all')"
   ]
  },
  {
   "cell_type": "code",
   "execution_count": 154,
   "metadata": {
    "collapsed": false
   },
   "outputs": [
    {
     "name": "stdout",
     "output_type": "stream",
     "text": [
      "Angebot    49999\n",
      "Gesuch         1\n",
      "Name: offer_type, dtype: int64\n",
      "privat        49999\n",
      "gewerblich        1\n",
      "Name: seller, dtype: int64\n",
      "0    $5,000\n",
      "1    $8,500\n",
      "2    $8,990\n",
      "3    $4,350\n",
      "4    $1,350\n",
      "Name: price, dtype: object\n",
      "9999\n"
     ]
    }
   ],
   "source": [
    "print(autos['offer_type'].value_counts())\n",
    "print(autos['seller'].value_counts())\n",
    "print(autos['price'][0:5])\n",
    "print(autos['registration_year'].max())"
   ]
  },
  {
   "cell_type": "markdown",
   "metadata": {},
   "source": [
    "- Column 'offer_type' and 'seller' arre redundant as they mostly contain one single value. Let's drop them.\n",
    "- Column 'price' and 'odometer' has character in them thus are stored as string. We can use str.replace() and str.astype() to convert them\n",
    "- Column 'registration_year' has max value of 9999 and min of 1000. Let's change it to max value of 2016 and min of 1900"
   ]
  },
  {
   "cell_type": "code",
   "execution_count": 155,
   "metadata": {
    "collapsed": false
   },
   "outputs": [],
   "source": [
    "# Convert format of 'price' and 'odometer' column\n",
    "autos['price'] = autos['price'].str.replace(',','')\n",
    "autos['price'] = autos['price'].str.replace('$','').astype(int)\n",
    "autos['odometer'] = autos['odometer'].str.replace(',','')\n",
    "autos['odometer'] = autos['odometer'].str.replace('km','').astype(int)\n",
    "autos.rename({'odometer':'odometer_km'}, axis=1, inplace=True)"
   ]
  },
  {
   "cell_type": "code",
   "execution_count": 156,
   "metadata": {
    "collapsed": false
   },
   "outputs": [],
   "source": [
    "# Dropping columns 'offer_type' and 'price'\n",
    "autos = autos.drop(columns=['offer_type', 'seller'])"
   ]
  },
  {
   "cell_type": "code",
   "execution_count": 157,
   "metadata": {
    "collapsed": false
   },
   "outputs": [],
   "source": [
    "# Changing value of column 'registration_year'\n",
    "autos = autos[autos['registration_year'].between(1900, 2016)]"
   ]
  },
  {
   "cell_type": "markdown",
   "metadata": {},
   "source": [
    "##Cleaning suspicious columns\n",
    "After the first cleaning, the data seems sane, let's have a further look into numeric columns such as 'odometer_km' and 'price'.\n",
    "###Numeric columns"
   ]
  },
  {
   "cell_type": "code",
   "execution_count": 158,
   "metadata": {
    "collapsed": false
   },
   "outputs": [
    {
     "name": "stdout",
     "output_type": "stream",
     "text": [
      "(13,)\n",
      "count     48028.000000\n",
      "mean     125544.161739\n",
      "std       40106.751417\n",
      "min        5000.000000\n",
      "25%      100000.000000\n",
      "50%      150000.000000\n",
      "75%      150000.000000\n",
      "max      150000.000000\n",
      "Name: odometer_km, dtype: float64\n",
      "150000    31029\n",
      "125000     4960\n",
      "100000     2110\n",
      "90000      1696\n",
      "80000      1396\n",
      "70000      1199\n",
      "60000      1137\n",
      "50000      1008\n",
      "40000       801\n",
      "30000       769\n",
      "20000       763\n",
      "10000       249\n",
      "5000        911\n",
      "Name: odometer_km, dtype: int64\n"
     ]
    }
   ],
   "source": [
    "print(autos['odometer_km'].unique().shape)\n",
    "print(autos['odometer_km'].describe())\n",
    "print(autos['odometer_km'].value_counts().sort_index(ascending=False))"
   ]
  },
  {
   "cell_type": "markdown",
   "metadata": {},
   "source": [
    "The data seems to be consistent and well distributed. How about column 'price'?"
   ]
  },
  {
   "cell_type": "code",
   "execution_count": 159,
   "metadata": {
    "collapsed": false
   },
   "outputs": [
    {
     "name": "stdout",
     "output_type": "stream",
     "text": [
      "(2334,)\n",
      "count    4.802800e+04\n",
      "mean     9.585252e+03\n",
      "std      4.843817e+05\n",
      "min      0.000000e+00\n",
      "25%      1.150000e+03\n",
      "50%      2.990000e+03\n",
      "75%      7.400000e+03\n",
      "max      1.000000e+08\n",
      "Name: price, dtype: float64\n",
      "99999999       1\n",
      "27322222       1\n",
      "12345678       1\n",
      "11111111       2\n",
      "10000000       1\n",
      "3890000        1\n",
      "1300000        1\n",
      "1234566        1\n",
      "999999         2\n",
      "999990         1\n",
      "350000         1\n",
      "345000         1\n",
      "299000         1\n",
      "295000         1\n",
      "265000         1\n",
      "259000         1\n",
      "250000         1\n",
      "220000         1\n",
      "198000         1\n",
      "197000         1\n",
      "194000         1\n",
      "190000         1\n",
      "180000         1\n",
      "175000         1\n",
      "169999         1\n",
      "169000         1\n",
      "163991         1\n",
      "163500         1\n",
      "155000         1\n",
      "151990         1\n",
      "            ... \n",
      "66             1\n",
      "65             5\n",
      "60             9\n",
      "59             1\n",
      "55             1\n",
      "50            49\n",
      "49             3\n",
      "47             1\n",
      "45             4\n",
      "40             6\n",
      "35             1\n",
      "30             6\n",
      "29             1\n",
      "25             5\n",
      "20             4\n",
      "18             1\n",
      "17             3\n",
      "15             2\n",
      "14             1\n",
      "13             2\n",
      "12             3\n",
      "11             2\n",
      "10             6\n",
      "9              1\n",
      "8              1\n",
      "5              2\n",
      "3              1\n",
      "2              2\n",
      "1            150\n",
      "0           1335\n",
      "Name: price, Length: 2334, dtype: int64\n"
     ]
    }
   ],
   "source": [
    "print(autos['price'].unique().shape)\n",
    "print(autos['price'].describe())\n",
    "print(autos['price'].value_counts().sort_index(ascending=False))"
   ]
  },
  {
   "cell_type": "markdown",
   "metadata": {},
   "source": [
    "We can see from above that price suddenly went up really high and scarce after 50,000. Also, price below 200 may just be scam so let take a value in between to remove outliers."
   ]
  },
  {
   "cell_type": "code",
   "execution_count": 160,
   "metadata": {
    "collapsed": false
   },
   "outputs": [],
   "source": [
    "autos = autos[autos['price'].between(200, 50000)]"
   ]
  },
  {
   "cell_type": "code",
   "execution_count": 161,
   "metadata": {
    "collapsed": false
   },
   "outputs": [
    {
     "name": "stdout",
     "output_type": "stream",
     "text": [
      "(2116,)\n",
      "count    45602.000000\n",
      "mean      5760.396145\n",
      "std       6801.239702\n",
      "min        200.000000\n",
      "25%       1300.000000\n",
      "50%       3200.000000\n",
      "75%       7590.000000\n",
      "max      50000.000000\n",
      "Name: price, dtype: float64\n",
      "50000      2\n",
      "49999      4\n",
      "49900      5\n",
      "49500      4\n",
      "49000      3\n",
      "48999      2\n",
      "48900      3\n",
      "48888      1\n",
      "48850      1\n",
      "48700      2\n",
      "48600      1\n",
      "48500      3\n",
      "48490      1\n",
      "48300      1\n",
      "48000      4\n",
      "47997      1\n",
      "47950      1\n",
      "47900      3\n",
      "47800      1\n",
      "47500      3\n",
      "47499      1\n",
      "47000      4\n",
      "46999      1\n",
      "46990      1\n",
      "46911      1\n",
      "46900      3\n",
      "46800      1\n",
      "46500      1\n",
      "46200      1\n",
      "46000      2\n",
      "        ... \n",
      "320       11\n",
      "310        1\n",
      "300      373\n",
      "299       53\n",
      "295        1\n",
      "290       19\n",
      "285        1\n",
      "280       30\n",
      "277        1\n",
      "275        7\n",
      "270        6\n",
      "269        1\n",
      "260        5\n",
      "255        1\n",
      "251        1\n",
      "250      284\n",
      "249       13\n",
      "248        1\n",
      "240        2\n",
      "238        1\n",
      "235        2\n",
      "230       12\n",
      "225        8\n",
      "222       12\n",
      "220       32\n",
      "217        1\n",
      "215        2\n",
      "210        1\n",
      "205        1\n",
      "200      260\n",
      "Name: price, Length: 2116, dtype: int64\n"
     ]
    }
   ],
   "source": [
    "print(autos['price'].unique().shape)\n",
    "print(autos['price'].describe())\n",
    "print(autos['price'].value_counts().sort_index(ascending=False))"
   ]
  },
  {
   "cell_type": "markdown",
   "metadata": {},
   "source": [
    "###Date columns\n",
    "There are 5 columns that should represent date values as below:\n",
    "- 'date_crawled': added by the crawler\n",
    "- 'last_seen': added by the crawler\n",
    "- 'ad_created': from the website\n",
    "- 'registration_month': from the website\n",
    "- 'registration_year': from the website\n",
    "We have already formatted the 'registration_year' column, the 'registration_month' seems sane so let's look at the 3 other columns."
   ]
  },
  {
   "cell_type": "code",
   "execution_count": 162,
   "metadata": {
    "collapsed": false
   },
   "outputs": [
    {
     "data": {
      "text/html": [
       "<div>\n",
       "<style scoped>\n",
       "    .dataframe tbody tr th:only-of-type {\n",
       "        vertical-align: middle;\n",
       "    }\n",
       "\n",
       "    .dataframe tbody tr th {\n",
       "        vertical-align: top;\n",
       "    }\n",
       "\n",
       "    .dataframe thead th {\n",
       "        text-align: right;\n",
       "    }\n",
       "</style>\n",
       "<table border=\"1\" class=\"dataframe\">\n",
       "  <thead>\n",
       "    <tr style=\"text-align: right;\">\n",
       "      <th></th>\n",
       "      <th>date_crawled</th>\n",
       "      <th>ad_created</th>\n",
       "      <th>last_seen</th>\n",
       "    </tr>\n",
       "  </thead>\n",
       "  <tbody>\n",
       "    <tr>\n",
       "      <th>0</th>\n",
       "      <td>2016-03-26 17:47:46</td>\n",
       "      <td>2016-03-26 00:00:00</td>\n",
       "      <td>2016-04-06 06:45:54</td>\n",
       "    </tr>\n",
       "    <tr>\n",
       "      <th>1</th>\n",
       "      <td>2016-04-04 13:38:56</td>\n",
       "      <td>2016-04-04 00:00:00</td>\n",
       "      <td>2016-04-06 14:45:08</td>\n",
       "    </tr>\n",
       "    <tr>\n",
       "      <th>2</th>\n",
       "      <td>2016-03-26 18:57:24</td>\n",
       "      <td>2016-03-26 00:00:00</td>\n",
       "      <td>2016-04-06 20:15:37</td>\n",
       "    </tr>\n",
       "    <tr>\n",
       "      <th>3</th>\n",
       "      <td>2016-03-12 16:58:10</td>\n",
       "      <td>2016-03-12 00:00:00</td>\n",
       "      <td>2016-03-15 03:16:28</td>\n",
       "    </tr>\n",
       "    <tr>\n",
       "      <th>4</th>\n",
       "      <td>2016-04-01 14:38:50</td>\n",
       "      <td>2016-04-01 00:00:00</td>\n",
       "      <td>2016-04-01 14:38:50</td>\n",
       "    </tr>\n",
       "  </tbody>\n",
       "</table>\n",
       "</div>"
      ],
      "text/plain": [
       "          date_crawled           ad_created            last_seen\n",
       "0  2016-03-26 17:47:46  2016-03-26 00:00:00  2016-04-06 06:45:54\n",
       "1  2016-04-04 13:38:56  2016-04-04 00:00:00  2016-04-06 14:45:08\n",
       "2  2016-03-26 18:57:24  2016-03-26 00:00:00  2016-04-06 20:15:37\n",
       "3  2016-03-12 16:58:10  2016-03-12 00:00:00  2016-03-15 03:16:28\n",
       "4  2016-04-01 14:38:50  2016-04-01 00:00:00  2016-04-01 14:38:50"
      ]
     },
     "execution_count": 162,
     "metadata": {},
     "output_type": "execute_result"
    }
   ],
   "source": [
    "autos[['date_crawled','ad_created','last_seen']][0:5]"
   ]
  },
  {
   "cell_type": "code",
   "execution_count": 163,
   "metadata": {
    "collapsed": false
   },
   "outputs": [
    {
     "name": "stdout",
     "output_type": "stream",
     "text": [
      "2016-03-05 14:06:30    1\n",
      "2016-03-05 14:06:40    1\n",
      "2016-03-05 14:07:21    1\n",
      "2016-03-05 14:07:26    1\n",
      "2016-03-05 14:07:40    1\n",
      "2016-03-05 14:07:45    1\n",
      "2016-03-05 14:08:00    2\n",
      "2016-03-05 14:08:05    2\n",
      "2016-03-05 14:08:27    1\n",
      "2016-03-05 14:08:42    1\n",
      "2016-03-05 14:09:02    2\n",
      "2016-03-05 14:09:05    1\n",
      "2016-03-05 14:09:20    1\n",
      "2016-03-05 14:09:22    1\n",
      "2016-03-05 14:09:38    1\n",
      "2016-03-05 14:09:46    1\n",
      "2016-03-05 14:09:57    1\n",
      "2016-03-05 14:09:58    2\n",
      "2016-03-05 14:10:18    1\n",
      "2016-03-05 14:10:20    1\n",
      "2016-03-05 14:10:46    1\n",
      "2016-03-05 14:11:03    1\n",
      "2016-03-05 14:11:05    1\n",
      "2016-03-05 14:11:14    1\n",
      "2016-03-05 14:11:15    1\n",
      "2016-03-05 14:11:25    1\n",
      "2016-03-05 14:11:40    1\n",
      "2016-03-05 14:11:42    1\n",
      "2016-03-05 14:11:56    1\n",
      "2016-03-05 14:12:16    1\n",
      "                      ..\n",
      "2016-04-07 10:06:23    1\n",
      "2016-04-07 10:25:34    1\n",
      "2016-04-07 10:36:17    1\n",
      "2016-04-07 10:36:19    1\n",
      "2016-04-07 10:36:24    1\n",
      "2016-04-07 10:36:25    1\n",
      "2016-04-07 10:36:35    1\n",
      "2016-04-07 10:36:36    1\n",
      "2016-04-07 10:36:37    2\n",
      "2016-04-07 11:06:33    1\n",
      "2016-04-07 11:36:19    1\n",
      "2016-04-07 11:36:23    1\n",
      "2016-04-07 11:36:24    1\n",
      "2016-04-07 11:36:25    1\n",
      "2016-04-07 11:36:34    2\n",
      "2016-04-07 11:36:35    1\n",
      "2016-04-07 12:06:19    1\n",
      "2016-04-07 12:06:23    1\n",
      "2016-04-07 12:25:34    1\n",
      "2016-04-07 12:25:35    1\n",
      "2016-04-07 13:06:18    1\n",
      "2016-04-07 13:25:39    1\n",
      "2016-04-07 13:36:20    1\n",
      "2016-04-07 13:36:37    1\n",
      "2016-04-07 14:07:04    1\n",
      "2016-04-07 14:30:09    1\n",
      "2016-04-07 14:30:26    1\n",
      "2016-04-07 14:36:44    1\n",
      "2016-04-07 14:36:55    1\n",
      "2016-04-07 14:36:56    1\n",
      "Name: date_crawled, Length: 44118, dtype: int64\n",
      "count                   45602\n",
      "unique                  44118\n",
      "top       2016-03-19 17:36:18\n",
      "freq                        3\n",
      "Name: date_crawled, dtype: object\n"
     ]
    }
   ],
   "source": [
    "# Caculate the distribution of column 'date_crawled'\n",
    "print(autos['date_crawled'].value_counts().sort_index())\n",
    "print(autos['date_crawled'].describe())"
   ]
  },
  {
   "cell_type": "code",
   "execution_count": 164,
   "metadata": {
    "collapsed": false
   },
   "outputs": [
    {
     "name": "stdout",
     "output_type": "stream",
     "text": [
      "2015-06-11 00:00:00       1\n",
      "2015-08-10 00:00:00       1\n",
      "2015-09-09 00:00:00       1\n",
      "2015-11-10 00:00:00       1\n",
      "2015-12-05 00:00:00       1\n",
      "2015-12-30 00:00:00       1\n",
      "2016-01-03 00:00:00       1\n",
      "2016-01-07 00:00:00       1\n",
      "2016-01-10 00:00:00       2\n",
      "2016-01-13 00:00:00       1\n",
      "2016-01-14 00:00:00       1\n",
      "2016-01-16 00:00:00       1\n",
      "2016-01-27 00:00:00       2\n",
      "2016-02-01 00:00:00       1\n",
      "2016-02-02 00:00:00       2\n",
      "2016-02-05 00:00:00       2\n",
      "2016-02-07 00:00:00       1\n",
      "2016-02-08 00:00:00       1\n",
      "2016-02-09 00:00:00       1\n",
      "2016-02-11 00:00:00       1\n",
      "2016-02-12 00:00:00       2\n",
      "2016-02-14 00:00:00       2\n",
      "2016-02-16 00:00:00       1\n",
      "2016-02-17 00:00:00       1\n",
      "2016-02-18 00:00:00       2\n",
      "2016-02-19 00:00:00       3\n",
      "2016-02-20 00:00:00       2\n",
      "2016-02-21 00:00:00       3\n",
      "2016-02-22 00:00:00       1\n",
      "2016-02-23 00:00:00       4\n",
      "                       ... \n",
      "2016-03-09 00:00:00    1522\n",
      "2016-03-10 00:00:00    1469\n",
      "2016-03-11 00:00:00    1497\n",
      "2016-03-12 00:00:00    1670\n",
      "2016-03-13 00:00:00     790\n",
      "2016-03-14 00:00:00    1596\n",
      "2016-03-15 00:00:00    1556\n",
      "2016-03-16 00:00:00    1355\n",
      "2016-03-17 00:00:00    1430\n",
      "2016-03-18 00:00:00     610\n",
      "2016-03-19 00:00:00    1524\n",
      "2016-03-20 00:00:00    1736\n",
      "2016-03-21 00:00:00    1710\n",
      "2016-03-22 00:00:00    1471\n",
      "2016-03-23 00:00:00    1468\n",
      "2016-03-24 00:00:00    1341\n",
      "2016-03-25 00:00:00    1435\n",
      "2016-03-26 00:00:00    1464\n",
      "2016-03-27 00:00:00    1400\n",
      "2016-03-28 00:00:00    1589\n",
      "2016-03-29 00:00:00    1553\n",
      "2016-03-30 00:00:00    1545\n",
      "2016-03-31 00:00:00    1453\n",
      "2016-04-01 00:00:00    1546\n",
      "2016-04-02 00:00:00    1613\n",
      "2016-04-03 00:00:00    1784\n",
      "2016-04-04 00:00:00    1688\n",
      "2016-04-05 00:00:00     534\n",
      "2016-04-06 00:00:00     145\n",
      "2016-04-07 00:00:00      56\n",
      "Name: ad_created, Length: 74, dtype: int64\n",
      "count                   45602\n",
      "unique                     74\n",
      "top       2016-04-03 00:00:00\n",
      "freq                     1784\n",
      "Name: ad_created, dtype: object\n"
     ]
    }
   ],
   "source": [
    "print(autos['ad_created'].value_counts().sort_index())\n",
    "print(autos['ad_created'].describe())"
   ]
  },
  {
   "cell_type": "code",
   "execution_count": 165,
   "metadata": {
    "collapsed": false
   },
   "outputs": [
    {
     "name": "stdout",
     "output_type": "stream",
     "text": [
      "2016-03-05 14:45:46    1\n",
      "2016-03-05 14:46:02    1\n",
      "2016-03-05 14:49:34    1\n",
      "2016-03-05 15:16:11    1\n",
      "2016-03-05 15:16:47    1\n",
      "2016-03-05 15:28:10    1\n",
      "2016-03-05 15:41:30    1\n",
      "2016-03-05 15:45:43    1\n",
      "2016-03-05 15:47:38    1\n",
      "2016-03-05 15:47:44    1\n",
      "2016-03-05 16:45:57    1\n",
      "2016-03-05 16:47:28    1\n",
      "2016-03-05 17:15:45    1\n",
      "2016-03-05 17:16:14    1\n",
      "2016-03-05 17:16:23    1\n",
      "2016-03-05 17:17:02    1\n",
      "2016-03-05 17:39:19    1\n",
      "2016-03-05 17:40:14    1\n",
      "2016-03-05 17:44:50    1\n",
      "2016-03-05 17:44:54    1\n",
      "2016-03-05 17:46:01    1\n",
      "2016-03-05 18:17:58    1\n",
      "2016-03-05 18:50:38    1\n",
      "2016-03-05 19:15:08    1\n",
      "2016-03-05 19:15:42    1\n",
      "2016-03-05 19:16:36    1\n",
      "2016-03-05 19:17:17    1\n",
      "2016-03-05 19:17:50    1\n",
      "2016-03-05 19:32:34    1\n",
      "2016-03-05 19:45:47    1\n",
      "                      ..\n",
      "2016-04-07 14:58:09    2\n",
      "2016-04-07 14:58:10    2\n",
      "2016-04-07 14:58:12    2\n",
      "2016-04-07 14:58:13    1\n",
      "2016-04-07 14:58:14    1\n",
      "2016-04-07 14:58:17    2\n",
      "2016-04-07 14:58:18    5\n",
      "2016-04-07 14:58:20    1\n",
      "2016-04-07 14:58:21    3\n",
      "2016-04-07 14:58:22    1\n",
      "2016-04-07 14:58:24    2\n",
      "2016-04-07 14:58:25    1\n",
      "2016-04-07 14:58:26    2\n",
      "2016-04-07 14:58:27    2\n",
      "2016-04-07 14:58:28    2\n",
      "2016-04-07 14:58:29    3\n",
      "2016-04-07 14:58:31    2\n",
      "2016-04-07 14:58:33    2\n",
      "2016-04-07 14:58:34    2\n",
      "2016-04-07 14:58:36    2\n",
      "2016-04-07 14:58:37    1\n",
      "2016-04-07 14:58:38    1\n",
      "2016-04-07 14:58:40    1\n",
      "2016-04-07 14:58:41    1\n",
      "2016-04-07 14:58:42    2\n",
      "2016-04-07 14:58:44    3\n",
      "2016-04-07 14:58:45    1\n",
      "2016-04-07 14:58:46    1\n",
      "2016-04-07 14:58:48    3\n",
      "2016-04-07 14:58:50    3\n",
      "Name: last_seen, Length: 36384, dtype: int64\n",
      "count                   45602\n",
      "unique                  36384\n",
      "top       2016-04-07 06:17:27\n",
      "freq                        8\n",
      "Name: last_seen, dtype: object\n"
     ]
    }
   ],
   "source": [
    "print(autos['last_seen'].value_counts().sort_index())\n",
    "print(autos['last_seen'].describe())"
   ]
  },
  {
   "cell_type": "markdown",
   "metadata": {},
   "source": [
    "There is no abnormality so let them be for now.\n",
    "##Data analysis\n",
    "###Relation between brand, price and mileage\n",
    "If we were car buyers, our decision relies heavily on car brands, price and their odometer. We will find 10 most popular brand in our dataset and work on finding their average price and mileage"
   ]
  },
  {
   "cell_type": "code",
   "execution_count": 166,
   "metadata": {
    "collapsed": false
   },
   "outputs": [
    {
     "name": "stdout",
     "output_type": "stream",
     "text": [
      "volkswagen       9670\n",
      "bmw              5080\n",
      "opel             4849\n",
      "mercedes_benz    4440\n",
      "audi             3989\n",
      "ford             3141\n",
      "renault          2130\n",
      "peugeot          1371\n",
      "fiat             1149\n",
      "seat              832\n",
      "Name: brand, dtype: int64\n"
     ]
    }
   ],
   "source": [
    "# Print 10 most popular brands in dataset\n",
    "print(autos['brand'].value_counts()[:10])"
   ]
  },
  {
   "cell_type": "code",
   "execution_count": 176,
   "metadata": {
    "collapsed": false
   },
   "outputs": [
    {
     "name": "stdout",
     "output_type": "stream",
     "text": [
      "               mean_price  mean_mil\n",
      "renault            2510.0  128099.0\n",
      "fiat               2926.0  116950.0\n",
      "opel               3078.0  129232.0\n",
      "peugeot            3142.0  126929.0\n",
      "ford               3750.0  124233.0\n",
      "seat               4505.0  121605.0\n",
      "volkswagen         5494.0  128799.0\n",
      "bmw                8163.0  133051.0\n",
      "mercedes_benz      8252.0  131592.0\n",
      "audi               9092.0  129797.0\n"
     ]
    }
   ],
   "source": [
    "# Aggreate data on brand, price and mileage to compare them\n",
    "brand_price = {}\n",
    "brand_mil = {}\n",
    "brands = autos['brand'].value_counts(ascending=False)[:10]\n",
    "pop_brands = brands.index\n",
    "for brand in pop_brands:\n",
    "    price = autos.loc[autos['brand'] == brand,'price']\n",
    "    brand_price[brand] = round(price.mean())\n",
    "for brand in pop_brands:\n",
    "    mil = autos.loc[autos['brand'] == brand,'odometer_km']\n",
    "    brand_mil[brand] = round(mil.mean())\n",
    "bp_series = pd.Series(brand_price)\n",
    "bm_series = pd.Series(brand_mil)\n",
    "df = pd.DataFrame(bp_series, columns=['mean_price'])\n",
    "df['mean_mil'] = bm_series\n",
    "df = df.sort_values(by=['mean_price'])\n",
    "print(df)"
   ]
  },
  {
   "cell_type": "markdown",
   "metadata": {
    "collapsed": true
   },
   "source": [
    "We observed a distinct price gap between the brands:\n",
    "- Audi, Mercedes, BMW and Volkswagen are more expensive\n",
    "- Seat, Ford and Peugeot are in between\n",
    "- Opel, Fiat and Renault are more affordable\n",
    "However, more expensive cars come with higher odormeter while affordable cars such as Fiat come with much lower mileage.\n",
    "###Relation between price and unrepaired damage"
   ]
  },
  {
   "cell_type": "markdown",
   "metadata": {},
   "source": [
    "###Relation between unrepaired damage and price"
   ]
  },
  {
   "cell_type": "code",
   "execution_count": 168,
   "metadata": {
    "collapsed": false
   },
   "outputs": [
    {
     "name": "stdout",
     "output_type": "stream",
     "text": [
      "(45602,)\n",
      "nein    33492\n",
      "ja       4296\n",
      "Name: unrepaired_damage, dtype: int64\n"
     ]
    }
   ],
   "source": [
    "# Describe column 'unrepaired_damage'\n",
    "print(autos['unrepaired_damage'].shape)\n",
    "print(autos['unrepaired_damage'].value_counts())"
   ]
  },
  {
   "cell_type": "code",
   "execution_count": 175,
   "metadata": {
    "collapsed": false,
    "scrolled": true
   },
   "outputs": [
    {
     "name": "stdout",
     "output_type": "stream",
     "text": [
      "      mean_price\n",
      "ja        2362.0\n",
      "nein      6769.0\n"
     ]
    }
   ],
   "source": [
    "repair_price = {}\n",
    "repair_bool = autos['unrepaired_damage'].value_counts()\n",
    "repair = repair_bool.index\n",
    "for i in repair:\n",
    "    price = autos.loc[autos['unrepaired_damage'] == i,'price']\n",
    "    repair_price[i] = round(price.mean())\n",
    "rp_series = pd.Series(repair_price)\n",
    "df1 = pd.DataFrame(rp_series, columns=['mean_price'])\n",
    "print(df1)"
   ]
  },
  {
   "cell_type": "markdown",
   "metadata": {},
   "source": [
    "From above, we can conclude that cars needing repair is at a staggering 195% cheaper compared to cars not needing repair"
   ]
  },
  {
   "cell_type": "markdown",
   "metadata": {},
   "source": [
    "##Conclusion\n",
    "**for buyers**, used cars with well knowned brand are more expensive but cars with less known brand can be a better bargain\n",
    "**for sellers**, some minor damage should be catered before advertising for better deal"
   ]
  }
 ],
 "metadata": {
  "kernelspec": {
   "display_name": "Python 3",
   "language": "python",
   "name": "python3"
  },
  "language_info": {
   "codemirror_mode": {
    "name": "ipython",
    "version": 3
   },
   "file_extension": ".py",
   "mimetype": "text/x-python",
   "name": "python",
   "nbconvert_exporter": "python",
   "pygments_lexer": "ipython3",
   "version": "3.4.3"
  }
 },
 "nbformat": 4,
 "nbformat_minor": 2
}
